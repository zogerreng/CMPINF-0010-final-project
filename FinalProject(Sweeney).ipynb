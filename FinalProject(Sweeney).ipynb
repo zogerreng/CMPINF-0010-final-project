{
 "cells": [
  {
   "cell_type": "markdown",
   "metadata": {},
   "source": [
    "# **The Best Neighborhood in Pittsburgh**\n"
   ]
  },
  {
   "cell_type": "markdown",
   "metadata": {},
   "source": [
    "## **Parking Metrics**"
   ]
  },
  {
   "cell_type": "code",
   "execution_count": 29,
   "metadata": {
    "collapsed": true,
    "jupyter": {
     "outputs_hidden": true
    }
   },
   "outputs": [
    {
     "data": {
      "text/html": [
       "<div>\n",
       "<style scoped>\n",
       "    .dataframe tbody tr th:only-of-type {\n",
       "        vertical-align: middle;\n",
       "    }\n",
       "\n",
       "    .dataframe tbody tr th {\n",
       "        vertical-align: top;\n",
       "    }\n",
       "\n",
       "    .dataframe thead th {\n",
       "        text-align: right;\n",
       "    }\n",
       "</style>\n",
       "<table border=\"1\" class=\"dataframe\">\n",
       "  <thead>\n",
       "    <tr style=\"text-align: right;\">\n",
       "      <th></th>\n",
       "      <th>OBJECTID_12</th>\n",
       "      <th>OBJECTID_1</th>\n",
       "      <th>OBJECTID_2</th>\n",
       "      <th>OBJECTID</th>\n",
       "      <th>FNODE_NO</th>\n",
       "      <th>TNODE_NO</th>\n",
       "      <th>LPOLY_NO</th>\n",
       "      <th>RPOLY_NO</th>\n",
       "      <th>LENGTH</th>\n",
       "      <th>STREETCL_N</th>\n",
       "      <th>...</th>\n",
       "      <th>Cartegraph</th>\n",
       "      <th>StreetFrom</th>\n",
       "      <th>OldFireZnL</th>\n",
       "      <th>OldFireZnR</th>\n",
       "      <th>CEN2010LT</th>\n",
       "      <th>CEN2010RG</th>\n",
       "      <th>COUNCIL__1</th>\n",
       "      <th>COUNCIL__2</th>\n",
       "      <th>Shape_Leng</th>\n",
       "      <th>PPA_Zones</th>\n",
       "    </tr>\n",
       "    <tr>\n",
       "      <th>STREETNAME</th>\n",
       "      <th></th>\n",
       "      <th></th>\n",
       "      <th></th>\n",
       "      <th></th>\n",
       "      <th></th>\n",
       "      <th></th>\n",
       "      <th></th>\n",
       "      <th></th>\n",
       "      <th></th>\n",
       "      <th></th>\n",
       "      <th></th>\n",
       "      <th></th>\n",
       "      <th></th>\n",
       "      <th></th>\n",
       "      <th></th>\n",
       "      <th></th>\n",
       "      <th></th>\n",
       "      <th></th>\n",
       "      <th></th>\n",
       "      <th></th>\n",
       "      <th></th>\n",
       "    </tr>\n",
       "  </thead>\n",
       "  <tbody>\n",
       "    <tr>\n",
       "      <th>BEDFORD AVE</th>\n",
       "      <td>1</td>\n",
       "      <td>67</td>\n",
       "      <td>359</td>\n",
       "      <td>3585</td>\n",
       "      <td>0</td>\n",
       "      <td>0</td>\n",
       "      <td>0</td>\n",
       "      <td>0</td>\n",
       "      <td>911.502209</td>\n",
       "      <td>0</td>\n",
       "      <td>...</td>\n",
       "      <td>19840</td>\n",
       "      <td>BEDFORD AVE MARIO LEMIEUX PL BEDFORD AVE</td>\n",
       "      <td>2-3</td>\n",
       "      <td>2-3</td>\n",
       "      <td>305</td>\n",
       "      <td>305</td>\n",
       "      <td>6</td>\n",
       "      <td>6</td>\n",
       "      <td>551.390856</td>\n",
       "      <td>UPA</td>\n",
       "    </tr>\n",
       "    <tr>\n",
       "      <th>ART ROONEY AVE</th>\n",
       "      <td>2</td>\n",
       "      <td>248</td>\n",
       "      <td>1301</td>\n",
       "      <td>7265</td>\n",
       "      <td>0</td>\n",
       "      <td>0</td>\n",
       "      <td>0</td>\n",
       "      <td>0</td>\n",
       "      <td>615.078493</td>\n",
       "      <td>0</td>\n",
       "      <td>...</td>\n",
       "      <td>1135</td>\n",
       "      <td>ART ROONEY AVE REEDSDALE ST GENERAL ROBINSON ST W</td>\n",
       "      <td>1-8</td>\n",
       "      <td>1-8</td>\n",
       "      <td>9812</td>\n",
       "      <td>9812</td>\n",
       "      <td>6</td>\n",
       "      <td>6</td>\n",
       "      <td>615.078611</td>\n",
       "      <td>NSH</td>\n",
       "    </tr>\n",
       "    <tr>\n",
       "      <th>FORT PITT BLVD</th>\n",
       "      <td>3</td>\n",
       "      <td>296</td>\n",
       "      <td>758</td>\n",
       "      <td>9694</td>\n",
       "      <td>0</td>\n",
       "      <td>0</td>\n",
       "      <td>0</td>\n",
       "      <td>0</td>\n",
       "      <td>297.700894</td>\n",
       "      <td>0</td>\n",
       "      <td>...</td>\n",
       "      <td>702</td>\n",
       "      <td>FORT PITT BLVD CHERRY WAY GRANT ST</td>\n",
       "      <td>1-1</td>\n",
       "      <td>1-1</td>\n",
       "      <td>201</td>\n",
       "      <td>201</td>\n",
       "      <td>6</td>\n",
       "      <td>6</td>\n",
       "      <td>297.700684</td>\n",
       "      <td>DT</td>\n",
       "    </tr>\n",
       "    <tr>\n",
       "      <th>S AIKEN AVE</th>\n",
       "      <td>4</td>\n",
       "      <td>326</td>\n",
       "      <td>921</td>\n",
       "      <td>14387</td>\n",
       "      <td>0</td>\n",
       "      <td>0</td>\n",
       "      <td>0</td>\n",
       "      <td>0</td>\n",
       "      <td>308.103473</td>\n",
       "      <td>0</td>\n",
       "      <td>...</td>\n",
       "      <td>900</td>\n",
       "      <td>S AIKEN AVE BAUM BLVD LIBERTY AVE</td>\n",
       "      <td>3-11</td>\n",
       "      <td>3-7</td>\n",
       "      <td>806</td>\n",
       "      <td>806</td>\n",
       "      <td>8</td>\n",
       "      <td>8</td>\n",
       "      <td>308.103281</td>\n",
       "      <td>SB</td>\n",
       "    </tr>\n",
       "    <tr>\n",
       "      <th>SENNOTT ST</th>\n",
       "      <td>5</td>\n",
       "      <td>384</td>\n",
       "      <td>126</td>\n",
       "      <td>882</td>\n",
       "      <td>0</td>\n",
       "      <td>0</td>\n",
       "      <td>0</td>\n",
       "      <td>0</td>\n",
       "      <td>259.695930</td>\n",
       "      <td>0</td>\n",
       "      <td>...</td>\n",
       "      <td>274</td>\n",
       "      <td>SENNOTT ST OAKLAND AVE S BOUQUET ST</td>\n",
       "      <td>2-7</td>\n",
       "      <td>2-11</td>\n",
       "      <td>405</td>\n",
       "      <td>405</td>\n",
       "      <td>3</td>\n",
       "      <td>3</td>\n",
       "      <td>259.695823</td>\n",
       "      <td>OA</td>\n",
       "    </tr>\n",
       "  </tbody>\n",
       "</table>\n",
       "<p>5 rows × 75 columns</p>\n",
       "</div>"
      ],
      "text/plain": [
       "                OBJECTID_12  OBJECTID_1  OBJECTID_2  OBJECTID  FNODE_NO  \\\n",
       "STREETNAME                                                                \n",
       "BEDFORD AVE               1          67         359      3585         0   \n",
       "ART ROONEY AVE            2         248        1301      7265         0   \n",
       "FORT PITT BLVD            3         296         758      9694         0   \n",
       "S AIKEN AVE               4         326         921     14387         0   \n",
       "SENNOTT ST                5         384         126       882         0   \n",
       "\n",
       "                TNODE_NO  LPOLY_NO  RPOLY_NO      LENGTH  STREETCL_N  ...  \\\n",
       "STREETNAME                                                            ...   \n",
       "BEDFORD AVE            0         0         0  911.502209           0  ...   \n",
       "ART ROONEY AVE         0         0         0  615.078493           0  ...   \n",
       "FORT PITT BLVD         0         0         0  297.700894           0  ...   \n",
       "S AIKEN AVE            0         0         0  308.103473           0  ...   \n",
       "SENNOTT ST             0         0         0  259.695930           0  ...   \n",
       "\n",
       "                Cartegraph                                         StreetFrom  \\\n",
       "STREETNAME                                                                      \n",
       "BEDFORD AVE          19840           BEDFORD AVE MARIO LEMIEUX PL BEDFORD AVE   \n",
       "ART ROONEY AVE        1135  ART ROONEY AVE REEDSDALE ST GENERAL ROBINSON ST W   \n",
       "FORT PITT BLVD         702                 FORT PITT BLVD CHERRY WAY GRANT ST   \n",
       "S AIKEN AVE            900                  S AIKEN AVE BAUM BLVD LIBERTY AVE   \n",
       "SENNOTT ST             274                SENNOTT ST OAKLAND AVE S BOUQUET ST   \n",
       "\n",
       "               OldFireZnL OldFireZnR CEN2010LT CEN2010RG COUNCIL__1  \\\n",
       "STREETNAME                                                            \n",
       "BEDFORD AVE           2-3        2-3       305       305          6   \n",
       "ART ROONEY AVE        1-8        1-8      9812      9812          6   \n",
       "FORT PITT BLVD        1-1        1-1       201       201          6   \n",
       "S AIKEN AVE          3-11        3-7       806       806          8   \n",
       "SENNOTT ST            2-7       2-11       405       405          3   \n",
       "\n",
       "                COUNCIL__2  Shape_Leng  PPA_Zones  \n",
       "STREETNAME                                         \n",
       "BEDFORD AVE              6  551.390856        UPA  \n",
       "ART ROONEY AVE           6  615.078611        NSH  \n",
       "FORT PITT BLVD           6  297.700684         DT  \n",
       "S AIKEN AVE              8  308.103281         SB  \n",
       "SENNOTT ST               3  259.695823         OA  \n",
       "\n",
       "[5 rows x 75 columns]"
      ]
     },
     "execution_count": 29,
     "metadata": {},
     "output_type": "execute_result"
    }
   ],
   "source": [
    "import pandas as pd\n",
    "import numpy as np\n",
    "\n",
    "# The initial dataset of metered streets throughout Pittsburgh\n",
    "\n",
    "metered_streets = pd.read_csv(\"Pittsburgh_Metered_Streets.csv\",\n",
    "                             index_col = \"STREETNAME\")\n",
    "metered_streets.head()"
   ]
  },
  {
   "cell_type": "code",
   "execution_count": 106,
   "metadata": {},
   "outputs": [
    {
     "data": {
      "text/plain": [
       "Text(0, 0.5, 'Pittsburgh Neighborhoods')"
      ]
     },
     "execution_count": 106,
     "metadata": {},
     "output_type": "execute_result"
    },
    {
     "data": {
      "image/png": "[encoded data removed]",
      "text/plain": [
       "<Figure size 720x720 with 1 Axes>"
      ]
     },
     "metadata": {
      "needs_background": "light"
     },
     "output_type": "display_data"
    }
   ],
   "source": [
    "import pandas as pd\n",
    "import numpy as np\n",
    "\n",
    "# Graphing the number of metered streets throughout Pittsburgh's neighborhoods\n",
    "\n",
    "metered_streets = pd.read_csv(\"Pittsburgh_Metered_Streets.csv\",\n",
    "                             index_col = \"STREETNAME\")\n",
    "\n",
    "graph_data = metered_streets['HOOD_LEFT'].value_counts()\n",
    "ax = graph_data.plot.barh(figsize=(10,10), title='Number of Metered Streets in Pittsburgh', colormap = 'jet')\n",
    "ax.set_xlabel(\"Number of Metered Streets\")\n",
    "ax.set_ylabel(\"Pittsburgh Neighborhoods\")\n",
    "\n"
   ]
  },
  {
   "cell_type": "markdown",
   "metadata": {},
   "source": [
    "## Neighborhoods in Pittsburgh by Square Miles \n",
    "\n",
    "- Squirrel Hill South: 2.671\n",
    "- Bloomfield: .702\n",
    "- East Liberty: .581\n",
    "- Greenfield: .773\n",
    "- Upper Hill: .179\n",
    "- Duquesne Heights: .623\n",
    "- Terrace Village: .179\n",
    "- Friendship: .106\n",
    "- Crawford Roberts: .179\n",
    "- Mt. Washington: 1.139\n",
    "- South Oakland: .508\n",
    "- West Oakland: .215\n",
    "- Central Oakland: .281\n",
    "- North Oakland: .499\n",
    "- Brookline: 2.082\n",
    "- East Allegheny: .236\n",
    "- Central Northside: .259\n",
    "- North Shore: .303\n",
    "- Allegheny West: .141\n",
    "- Squirrel Hill North: 1.222\n",
    "- Bluff (Uptown): .327\n",
    "- Central Lawrenceville: .963\n",
    "- Shadyside: .921\n",
    "- Allegheny Center: .210\n",
    "- Strip District: .609\n",
    "- Southside Flats: .940\n",
    "- Central Business District: .640"
   ]
  },
  {
   "cell_type": "markdown",
   "metadata": {},
   "source": [
    "## Calculations for the Parking Score"
   ]
  },
  {
   "cell_type": "code",
   "execution_count": 4,
   "metadata": {},
   "outputs": [
    {
     "name": "stdout",
     "output_type": "stream",
     "text": [
      "0.10683999999999999\n"
     ]
    }
   ],
   "source": [
    "#Squirell Hill South\n",
    "\n",
    "sqhs_miles = 2.671\n",
    "sqhs_streets = 25\n",
    "parking_sqhs = sqhs_miles / sqhs_streets\n",
    "\n",
    "print(parking_sqhs)"
   ]
  },
  {
   "cell_type": "code",
   "execution_count": 5,
   "metadata": {},
   "outputs": [
    {
     "name": "stdout",
     "output_type": "stream",
     "text": [
      "0.10183333333333333\n"
     ]
    }
   ],
   "source": [
    "#Squirrel Hill North\n",
    "\n",
    "sqhn_miles = 1.222\n",
    "sqhn_streets = 12\n",
    "parking_sqhn = sqhn_miles / sqhn_streets\n",
    "print(parking_sqhn)"
   ]
  },
  {
   "cell_type": "code",
   "execution_count": 6,
   "metadata": {},
   "outputs": [
    {
     "name": "stdout",
     "output_type": "stream",
     "text": [
      "0.016714285714285713\n"
     ]
    }
   ],
   "source": [
    "#Bloomfield\n",
    "\n",
    "bloom_miles = .702\n",
    "bloom_streets = 42\n",
    "parking_bloom = bloom_miles / bloom_streets\n",
    "print(parking_bloom)"
   ]
  },
  {
   "cell_type": "code",
   "execution_count": 7,
   "metadata": {},
   "outputs": [
    {
     "name": "stdout",
     "output_type": "stream",
     "text": [
      "0.013833333333333333\n"
     ]
    }
   ],
   "source": [
    "#East Liberty\n",
    "\n",
    "el_miles = .581\n",
    "el_streets = 42\n",
    "parking_el = el_miles / el_streets\n",
    "print(parking_el)"
   ]
  },
  {
   "cell_type": "code",
   "execution_count": 8,
   "metadata": {},
   "outputs": [
    {
     "name": "stdout",
     "output_type": "stream",
     "text": [
      "0.773\n"
     ]
    }
   ],
   "source": [
    "#Greenfield\n",
    "\n",
    "gf_miles = .773\n",
    "gf_streets = 1\n",
    "parking_gf = gf_miles / gf_streets\n",
    "print(parking_gf)"
   ]
  },
  {
   "cell_type": "code",
   "execution_count": 9,
   "metadata": {},
   "outputs": [
    {
     "name": "stdout",
     "output_type": "stream",
     "text": [
      "0.022375\n"
     ]
    }
   ],
   "source": [
    "#Hill District (Upper Hill, Crawford-Roberts, Terrace Village)\n",
    "\n",
    "hd_miles = .179\n",
    "uh_streets = 1\n",
    "tv_streets = 2\n",
    "cr_streets = 5\n",
    "hd_streets = uh_streets + tv_streets + cr_streets\n",
    "parking_hd = hd_miles / hd_streets\n",
    "print(parking_hd)"
   ]
  },
  {
   "cell_type": "code",
   "execution_count": 10,
   "metadata": {},
   "outputs": [
    {
     "name": "stdout",
     "output_type": "stream",
     "text": [
      "0.3115\n"
     ]
    }
   ],
   "source": [
    "#Duquesne Heights\n",
    "\n",
    "dh_miles = .623\n",
    "dh_streets = 2\n",
    "parking_dh = dh_miles / dh_streets\n",
    "print(parking_dh)"
   ]
  },
  {
   "cell_type": "code",
   "execution_count": 11,
   "metadata": {},
   "outputs": [
    {
     "name": "stdout",
     "output_type": "stream",
     "text": [
      "0.035333333333333335\n"
     ]
    }
   ],
   "source": [
    "#Friendship\n",
    "\n",
    "fship_miles = .106\n",
    "fship_streets = 3\n",
    "parking_fship = fship_miles / fship_streets\n",
    "print(parking_fship)"
   ]
  },
  {
   "cell_type": "code",
   "execution_count": 12,
   "metadata": {},
   "outputs": [
    {
     "name": "stdout",
     "output_type": "stream",
     "text": [
      "0.2278\n"
     ]
    }
   ],
   "source": [
    "#Mt. Washington\n",
    "\n",
    "mw_miles = 1.139\n",
    "mw_streets = 5\n",
    "parking_mw = mw_miles / mw_streets\n",
    "print(parking_mw)"
   ]
  },
  {
   "cell_type": "code",
   "execution_count": 13,
   "metadata": {},
   "outputs": [
    {
     "name": "stdout",
     "output_type": "stream",
     "text": [
      "0.08466666666666667\n"
     ]
    }
   ],
   "source": [
    "#South Oakland\n",
    "\n",
    "so_miles = .508\n",
    "so_streets = 6\n",
    "parking_so = so_miles / so_streets\n",
    "print(parking_so)"
   ]
  },
  {
   "cell_type": "code",
   "execution_count": 14,
   "metadata": {},
   "outputs": [
    {
     "name": "stdout",
     "output_type": "stream",
     "text": [
      "0.030714285714285715\n"
     ]
    }
   ],
   "source": [
    "#West Oakland\n",
    "\n",
    "wo_miles = .215\n",
    "wo_streets = 7\n",
    "parking_wo = wo_miles / wo_streets\n",
    "print(parking_wo)"
   ]
  },
  {
   "cell_type": "code",
   "execution_count": 15,
   "metadata": {},
   "outputs": [
    {
     "name": "stdout",
     "output_type": "stream",
     "text": [
      "0.011708333333333334\n"
     ]
    }
   ],
   "source": [
    "#Central Oakland\n",
    "\n",
    "co_miles = .281\n",
    "co_streets = 24\n",
    "parking_co = co_miles / co_streets\n",
    "print(parking_co)"
   ]
  },
  {
   "cell_type": "code",
   "execution_count": 16,
   "metadata": {},
   "outputs": [
    {
     "name": "stdout",
     "output_type": "stream",
     "text": [
      "0.006930555555555555\n"
     ]
    }
   ],
   "source": [
    "#North Oakland\n",
    "\n",
    "no_miles = .499\n",
    "no_streets = 72\n",
    "parking_no = no_miles / no_streets\n",
    "print(parking_no)"
   ]
  },
  {
   "cell_type": "code",
   "execution_count": 17,
   "metadata": {},
   "outputs": [
    {
     "name": "stdout",
     "output_type": "stream",
     "text": [
      "0.29742857142857143\n"
     ]
    }
   ],
   "source": [
    "#Brookline\n",
    "\n",
    "bl_miles = 2.082\n",
    "bl_streets = 7\n",
    "parking_bl = bl_miles / bl_streets\n",
    "print(parking_bl)"
   ]
  },
  {
   "cell_type": "code",
   "execution_count": 18,
   "metadata": {},
   "outputs": [
    {
     "name": "stdout",
     "output_type": "stream",
     "text": [
      "0.03371428571428571\n"
     ]
    }
   ],
   "source": [
    "#East Allegheny\n",
    "\n",
    "ea_miles = .236\n",
    "ea_streets = 7\n",
    "parking_ea = ea_miles / ea_streets\n",
    "print(parking_ea)"
   ]
  },
  {
   "cell_type": "code",
   "execution_count": 19,
   "metadata": {},
   "outputs": [
    {
     "name": "stdout",
     "output_type": "stream",
     "text": [
      "0.032375\n"
     ]
    }
   ],
   "source": [
    "#Central Northside\n",
    "\n",
    "cn_miles = .259\n",
    "cn_streets = 8\n",
    "parking_cn = cn_miles / cn_streets\n",
    "print(parking_cn)"
   ]
  },
  {
   "cell_type": "code",
   "execution_count": 20,
   "metadata": {},
   "outputs": [
    {
     "name": "stdout",
     "output_type": "stream",
     "text": [
      "0.0303\n"
     ]
    }
   ],
   "source": [
    "#North Shore\n",
    "\n",
    "ns_miles = .303\n",
    "ns_streets = 10\n",
    "parking_ns = ns_miles / ns_streets\n",
    "print(parking_ns)"
   ]
  },
  {
   "cell_type": "code",
   "execution_count": 21,
   "metadata": {},
   "outputs": [
    {
     "name": "stdout",
     "output_type": "stream",
     "text": [
      "0.011749999999999998\n"
     ]
    }
   ],
   "source": [
    "#Allegheny West\n",
    "\n",
    "aw_miles = .141\n",
    "aw_streets = 12\n",
    "parking_aw = aw_miles / aw_streets\n",
    "print(parking_aw)"
   ]
  },
  {
   "cell_type": "code",
   "execution_count": 23,
   "metadata": {},
   "outputs": [
    {
     "name": "stdout",
     "output_type": "stream",
     "text": [
      "0.017210526315789475\n"
     ]
    }
   ],
   "source": [
    "#Bluff (Uptown)\n",
    "\n",
    "bluff_miles = .327\n",
    "bluff_streets = 19\n",
    "parking_bluff = bluff_miles / bluff_streets\n",
    "print(parking_bluff)"
   ]
  },
  {
   "cell_type": "code",
   "execution_count": 22,
   "metadata": {},
   "outputs": [
    {
     "name": "stdout",
     "output_type": "stream",
     "text": [
      "0.05068421052631579\n"
     ]
    }
   ],
   "source": [
    "#Central Lawrenceville\n",
    "\n",
    "cl_miles = .963\n",
    "cl_streets = 19\n",
    "parking_cl = cl_miles / cl_streets\n",
    "print(parking_cl)"
   ]
  },
  {
   "cell_type": "code",
   "execution_count": 24,
   "metadata": {},
   "outputs": [
    {
     "name": "stdout",
     "output_type": "stream",
     "text": [
      "0.035423076923076925\n"
     ]
    }
   ],
   "source": [
    "#Shadyside\n",
    "\n",
    "shady_miles = .921\n",
    "shady_streets = 26\n",
    "parking_shady = shady_miles / shady_streets\n",
    "print(parking_shady)"
   ]
  },
  {
   "cell_type": "code",
   "execution_count": 25,
   "metadata": {},
   "outputs": [
    {
     "name": "stdout",
     "output_type": "stream",
     "text": [
      "0.008076923076923077\n"
     ]
    }
   ],
   "source": [
    "#Allegheny Center\n",
    "\n",
    "ac_miles = .210\n",
    "ac_streets = 26\n",
    "parking_ac = ac_miles / ac_streets\n",
    "print(parking_ac)"
   ]
  },
  {
   "cell_type": "code",
   "execution_count": 26,
   "metadata": {},
   "outputs": [
    {
     "name": "stdout",
     "output_type": "stream",
     "text": [
      "0.018454545454545453\n"
     ]
    }
   ],
   "source": [
    "#Strip District\n",
    "\n",
    "sd_miles = .609\n",
    "sd_streets = 33\n",
    "parking_sd = sd_miles / sd_streets\n",
    "print(parking_sd)"
   ]
  },
  {
   "cell_type": "code",
   "execution_count": 27,
   "metadata": {},
   "outputs": [
    {
     "name": "stdout",
     "output_type": "stream",
     "text": [
      "0.012876712328767123\n"
     ]
    }
   ],
   "source": [
    "#Southside Flats\n",
    "\n",
    "south_miles = .940\n",
    "south_streets = 73\n",
    "parking_south = south_miles / south_streets\n",
    "print(parking_south)"
   ]
  },
  {
   "cell_type": "code",
   "execution_count": 28,
   "metadata": {},
   "outputs": [
    {
     "name": "stdout",
     "output_type": "stream",
     "text": [
      "0.0060377358490566035\n"
     ]
    }
   ],
   "source": [
    "#Central Business District\n",
    "\n",
    "cb_miles = .640\n",
    "cb_streets = 106\n",
    "parking_cb = cb_miles / cb_streets\n",
    "print(parking_cb)"
   ]
  },
  {
   "cell_type": "code",
   "execution_count": 92,
   "metadata": {},
   "outputs": [
    {
     "data": {
      "image/png": "[encoded data removed]",
      "text/plain": [
       "<Figure size 1440x216 with 1 Axes>"
      ]
     },
     "metadata": {
      "needs_background": "light"
     },
     "output_type": "display_data"
    }
   ],
   "source": [
    "import array as arr\n",
    "import numpy as np\n",
    "import matplotlib.pyplot as plt\n",
    "\n",
    "parking = arr.array('f', [parking_sqhs, parking_sqhn, parking_bloom, parking_el, parking_gf, parking_hd, parking_dh, parking_fship, parking_mw, parking_so, parking_wo, parking_co, parking_no,\n",
    "                           parking_bl, parking_ea, parking_cn, parking_ns, parking_aw, parking_bluff, parking_cl, parking_shady, parking_ac, parking_sd, parking_south, parking_cb])\n",
    "names = \"SHS\", \"SHN\", \"Bloom\", \"Eastlib\", \"Greenf\", \"Hilld\", \"DH\", \"Friendship\",\"MW\", \"SO\", \"WO\", \"CO\", \"NO\", \"BL\", \"EA\", \"CNS\", \"NS\", \"AW\", \"Bluff\", \"CL\", \"Shady\", \"AC\", \"SD\", \"SF\", \"CBD\"\n",
    "plt.xlabel('Pittsburgh Neighborhoods')\n",
    "plt.ylabel('Parking Score')\n",
    "plt.plot(names, parking, color='green') \n",
    "plt.show()"
   ]
  },
  {
   "cell_type": "markdown",
   "metadata": {},
   "source": [
    "## Conclusion\n",
    "\n",
    "We set out on this project to prove that Squirrel Hill was the best neighborhood in Pittsburgh. However, through my own findings with the parking dataset and the parking formula, it was not possible to prove that. Based on my parking metrics, the best neighborhood in Pittsburgh is Greenfield followed by Brookline, Duquesne Heights, and Mount Washington. Greenfield had the best parking score at .773. Meanwhile, Squirrel Hill North had a parking score of .101 and Squirrel Hill South had a parking score of .106. This parking score means that Greenfield has the least amount of metered parking based on their square mileage while Squirrel Hill had some of the most metered parking based on their size. This fails to prove that Squirrel Hill is the best neighborhood in Pittsburgh because you will have the hardest time finding free parking which means hard-earned money will be spent on parking for the day. In conclusion, I have to give best neighborhood to Greenfield as I would spend almost no money in meter fees and I would have a very low chance of receiving a parking ticket if I chose not to pay. "
   ]
  }
 ],
 "metadata": {
  "kernelspec": {
   "display_name": "Python 3",
   "language": "python",
   "name": "python3"
  },
  "language_info": {
   "codemirror_mode": {
    "name": "ipython",
    "version": 3
   },
   "file_extension": ".py",
   "mimetype": "text/x-python",
   "name": "python",
   "nbconvert_exporter": "python",
   "pygments_lexer": "ipython3",
   "version": "3.8.5"
  }
 },
 "nbformat": 4,
 "nbformat_minor": 4
}
